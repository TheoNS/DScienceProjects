{
 "cells": [
  {
   "cell_type": "markdown",
   "id": "08ca91da-83af-4677-95ff-4a6942496fa0",
   "metadata": {},
   "source": [
    "# Data Science Tools and Ecosystem"
   ]
  },
  {
   "cell_type": "markdown",
   "id": "fd811d3a-27b4-41c0-bdce-5ac77416b8d0",
   "metadata": {},
   "source": [
    "In this notebook, Data Science Tools and Ecosystem are summarized."
   ]
  },
  {
   "cell_type": "markdown",
   "id": "5fecaef6-8334-4417-98cc-f0f9cff821c8",
   "metadata": {},
   "source": [
    "Some of the popular languages that Data Scientists use are:\n",
    "1. Python\n",
    "2. Julia\n",
    "3. R\n",
    "4. Java\n",
    "5. SQL"
   ]
  },
  {
   "cell_type": "markdown",
   "id": "7377149b-1eaa-4544-a60b-5f286e6f3ea4",
   "metadata": {},
   "source": [
    "Some of the commonly used libraries used by Data Scientists include:\n",
    "1. Numpy\n",
    "2. Tensorflow\n",
    "3. Scikit-Learn\n",
    "4. Pandas\n",
    "5. ggplot"
   ]
  },
  {
   "cell_type": "markdown",
   "id": "c9ec5a22-5185-4b87-8cad-82d85632c926",
   "metadata": {},
   "source": [
    "|Data Science Tools   |\n",
    "|:-------------------:|\n",
    "|Jupyter Notebook     |\n",
    "|RStudio              |\n",
    "|Git                  |\n",
    "|Apache Hadoop        |\n",
    "|Apache Spark         |\n"
   ]
  },
  {
   "cell_type": "markdown",
   "id": "3fc8cdef-001e-4d39-8a78-e60cb6ed610b",
   "metadata": {},
   "source": [
    "### Below are a few examples of evaluating arithmetic expressions in Python\n",
    "    (5+6)**2\n",
    "    (7+9)*2\n",
    "    (4-2)/2\n",
    "    2+2\n",
    "\n",
    "\n"
   ]
  },
  {
   "cell_type": "code",
   "execution_count": 1,
   "id": "b577e7e0-30b8-4557-bf9b-a545e81a0ae2",
   "metadata": {},
   "outputs": [
    {
     "data": {
      "text/plain": [
       "17"
      ]
     },
     "execution_count": 1,
     "metadata": {},
     "output_type": "execute_result"
    }
   ],
   "source": [
    "#This a simple arithmetic expression to mutiply then add integers\n",
    "(3*4)+5"
   ]
  },
  {
   "cell_type": "code",
   "execution_count": 2,
   "id": "6a23eec4-0600-41ea-84ea-7b5ac3975c4a",
   "metadata": {},
   "outputs": [
    {
     "data": {
      "text/plain": [
       "3.3333333333333335"
      ]
     },
     "execution_count": 2,
     "metadata": {},
     "output_type": "execute_result"
    }
   ],
   "source": [
    "#This will convert 200 minutes to hours by diving by 60\n",
    "200/60"
   ]
  },
  {
   "cell_type": "markdown",
   "id": "48586447-5a1e-4dd3-8479-5665b546dd3b",
   "metadata": {},
   "source": [
    "**Objectives:**\r\n",
    "- List popular languages for Data Science\r\n",
    "- Commonly used libraries used by Data Scientist\r\n",
    "- Examples of evaluating arithmetic expressions in Python\r\n",
    "- Data Science tools"
   ]
  },
  {
   "cell_type": "markdown",
   "id": "d40214ac-afa7-49c9-8c35-f05025704326",
   "metadata": {},
   "source": [
    "## Author\n",
    "Theo Ogbebor"
   ]
  }
 ],
 "metadata": {
  "kernelspec": {
   "display_name": "Python 3 (ipykernel)",
   "language": "python",
   "name": "python3"
  },
  "language_info": {
   "codemirror_mode": {
    "name": "ipython",
    "version": 3
   },
   "file_extension": ".py",
   "mimetype": "text/x-python",
   "name": "python",
   "nbconvert_exporter": "python",
   "pygments_lexer": "ipython3",
   "version": "3.11.9"
  }
 },
 "nbformat": 4,
 "nbformat_minor": 5
}
